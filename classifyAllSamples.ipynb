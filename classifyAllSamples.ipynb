{
 "cells": [
  {
   "cell_type": "code",
   "execution_count": 5,
   "metadata": {},
   "outputs": [],
   "source": [
    "import pandas as pd\n",
    "import numpy as np\n",
    "import math\n",
    "from joblib import load\n",
    "import json"
   ]
  },
  {
   "cell_type": "code",
   "execution_count": 2,
   "metadata": {},
   "outputs": [],
   "source": [
    "df = pd.read_csv('./data/playLibrary_v2.csv')"
   ]
  },
  {
   "cell_type": "code",
   "execution_count": 3,
   "metadata": {},
   "outputs": [],
   "source": [
    "df['scoreDiff'] = df['shooterTeamScore'] - df['goalieTeamScore']\n",
    "df['isOT'] = (df['period']/4).apply(lambda x: math.floor(x))\n",
    "df['distance'] = ((89 - df['x'])*(89 - df['x']) + (df['y']*df['y']))**(0.5)\n",
    "df['angle'] = (df['y']/df['distance']).apply(lambda x: math.asin(x)*180/math.pi)\n",
    "df['shooterIsHome'] = pd.get_dummies(df['shooterHomeAway'],drop_first=True)\n",
    "df = df.join(pd.get_dummies(df['shotType'],drop_first=True))\n",
    "df = df.join(pd.get_dummies(df['shooter']))\n",
    "df['target'] = pd.get_dummies(df['play'])['GOAL']"
   ]
  },
  {
   "cell_type": "code",
   "execution_count": 9,
   "metadata": {},
   "outputs": [],
   "source": [
    "X = df.drop(columns=['target','period','shotType','shooterHomeAway','goalie','shooter','play'])\n",
    "y = df['target']"
   ]
  },
  {
   "cell_type": "code",
   "execution_count": 11,
   "metadata": {},
   "outputs": [],
   "source": [
    "scaler = load('scaler.bin')\n",
    "model = load('gbGoalie_2March2020.joblib')"
   ]
  },
  {
   "cell_type": "code",
   "execution_count": 12,
   "metadata": {},
   "outputs": [],
   "source": [
    "X_scaled = scaler.transform(X)"
   ]
  },
  {
   "cell_type": "code",
   "execution_count": 15,
   "metadata": {},
   "outputs": [],
   "source": [
    "goalProb = model.predict_proba(X_scaled)[:,1]"
   ]
  },
  {
   "cell_type": "code",
   "execution_count": 60,
   "metadata": {},
   "outputs": [
    {
     "data": {
      "text/plain": [
       "array([0.032, 0.197, 0.088, ..., 0.019, 0.11 , 0.035])"
      ]
     },
     "execution_count": 60,
     "metadata": {},
     "output_type": "execute_result"
    }
   ],
   "source": [
    "np.round(goalProb, 3)"
   ]
  },
  {
   "cell_type": "code",
   "execution_count": 22,
   "metadata": {},
   "outputs": [],
   "source": [
    "df.columns[0:30]\n",
    "filtDF = df[['goalie','period','x','y','shotType','target']]"
   ]
  },
  {
   "cell_type": "code",
   "execution_count": 24,
   "metadata": {},
   "outputs": [
    {
     "name": "stderr",
     "output_type": "stream",
     "text": [
      "/Users/josephpicca/anaconda/envs/grib/lib/python3.6/site-packages/pandas/core/indexing.py:494: SettingWithCopyWarning: \n",
      "A value is trying to be set on a copy of a slice from a DataFrame.\n",
      "Try using .loc[row_indexer,col_indexer] = value instead\n",
      "\n",
      "See the caveats in the documentation: http://pandas.pydata.org/pandas-docs/stable/user_guide/indexing.html#returning-a-view-versus-a-copy\n",
      "  self.obj[item] = s\n"
     ]
    }
   ],
   "source": [
    "filtDF.loc[:,'goalProb'] = goalProb"
   ]
  },
  {
   "cell_type": "code",
   "execution_count": 58,
   "metadata": {},
   "outputs": [
    {
     "data": {
      "text/plain": [
       "0.909653519179277"
      ]
     },
     "execution_count": 58,
     "metadata": {},
     "output_type": "execute_result"
    }
   ],
   "source": [
    "goalieID = 8477293\n",
    "filtDF[filtDF['goalie'] == \tgoalieID]['target'].sum()/filtDF[filtDF['goalie'] == goalieID]['goalProb'].sum()"
   ]
  },
  {
   "cell_type": "code",
   "execution_count": 50,
   "metadata": {},
   "outputs": [
    {
     "data": {
      "text/plain": [
       "array([8471239, 8476316, 8478406, 8475622, 8479394, 8475156, 8471695,\n",
       "       8475683, 8480382, 8477967, 8477293, 8470147, 8473503, 8476945,\n",
       "       8479496, 8474593, 8467950, 8476899, 8476234, 8477465, 8475839,\n",
       "       8473541, 8478039, 8471679, 8476999, 8476876, 8470645, 8471469,\n",
       "       8471750, 8480925, 8475311, 8468011, 8478492, 8480213, 8476914,\n",
       "       8475215, 8474636, 8470860, 8473575, 8475831, 8471306, 8478048,\n",
       "       8474651, 8475883, 8478007, 8477405, 8479292, 8470880, 8479312,\n",
       "       8477361, 8478470, 8475852, 8476412, 8474889, 8475195, 8476883,\n",
       "       8476434, 8471734, 8471227, 8470657, 8475717, 8477424, 8470594,\n",
       "       8468685, 8469608, 8471774, 8475660, 8480162, 8471418, 8477180,\n",
       "       8476861, 8478499, 8475789, 8479288, 8477480, 8476904, 8474596,\n",
       "       8477992, 8480051, 8479188, 8477968, 8476343, 8479530, 8477312,\n",
       "       8480022, 8476341])"
      ]
     },
     "execution_count": 50,
     "metadata": {},
     "output_type": "execute_result"
    }
   ],
   "source": [
    "filtDF['goalie'].unique()"
   ]
  },
  {
   "cell_type": "code",
   "execution_count": 61,
   "metadata": {},
   "outputs": [],
   "source": [
    "testDF = pd.read_csv('./data/dataToFilter.csv')"
   ]
  },
  {
   "cell_type": "code",
   "execution_count": 101,
   "metadata": {},
   "outputs": [
    {
     "data": {
      "text/html": [
       "<div>\n",
       "<style scoped>\n",
       "    .dataframe tbody tr th:only-of-type {\n",
       "        vertical-align: middle;\n",
       "    }\n",
       "\n",
       "    .dataframe tbody tr th {\n",
       "        vertical-align: top;\n",
       "    }\n",
       "\n",
       "    .dataframe thead th {\n",
       "        text-align: right;\n",
       "    }\n",
       "</style>\n",
       "<table border=\"1\" class=\"dataframe\">\n",
       "  <thead>\n",
       "    <tr style=\"text-align: right;\">\n",
       "      <th></th>\n",
       "      <th>goalie</th>\n",
       "      <th>period</th>\n",
       "      <th>x</th>\n",
       "      <th>y</th>\n",
       "      <th>shotType</th>\n",
       "      <th>target</th>\n",
       "      <th>goalProb</th>\n",
       "    </tr>\n",
       "  </thead>\n",
       "  <tbody>\n",
       "    <tr>\n",
       "      <th>0</th>\n",
       "      <td>8471239</td>\n",
       "      <td>1</td>\n",
       "      <td>48.0</td>\n",
       "      <td>-22.0</td>\n",
       "      <td>Snap Shot</td>\n",
       "      <td>0</td>\n",
       "      <td>0.032</td>\n",
       "    </tr>\n",
       "    <tr>\n",
       "      <th>1</th>\n",
       "      <td>8476316</td>\n",
       "      <td>1</td>\n",
       "      <td>86.0</td>\n",
       "      <td>-6.0</td>\n",
       "      <td>Snap Shot</td>\n",
       "      <td>0</td>\n",
       "      <td>0.197</td>\n",
       "    </tr>\n",
       "    <tr>\n",
       "      <th>2</th>\n",
       "      <td>8471239</td>\n",
       "      <td>1</td>\n",
       "      <td>66.0</td>\n",
       "      <td>11.0</td>\n",
       "      <td>Wrist Shot</td>\n",
       "      <td>0</td>\n",
       "      <td>0.088</td>\n",
       "    </tr>\n",
       "    <tr>\n",
       "      <th>3</th>\n",
       "      <td>8471239</td>\n",
       "      <td>1</td>\n",
       "      <td>54.0</td>\n",
       "      <td>4.0</td>\n",
       "      <td>Wrist Shot</td>\n",
       "      <td>0</td>\n",
       "      <td>0.073</td>\n",
       "    </tr>\n",
       "    <tr>\n",
       "      <th>4</th>\n",
       "      <td>8476316</td>\n",
       "      <td>1</td>\n",
       "      <td>52.0</td>\n",
       "      <td>36.0</td>\n",
       "      <td>Snap Shot</td>\n",
       "      <td>0</td>\n",
       "      <td>0.021</td>\n",
       "    </tr>\n",
       "    <tr>\n",
       "      <th>...</th>\n",
       "      <td>...</td>\n",
       "      <td>...</td>\n",
       "      <td>...</td>\n",
       "      <td>...</td>\n",
       "      <td>...</td>\n",
       "      <td>...</td>\n",
       "      <td>...</td>\n",
       "    </tr>\n",
       "    <tr>\n",
       "      <th>64015</th>\n",
       "      <td>8471418</td>\n",
       "      <td>3</td>\n",
       "      <td>8.0</td>\n",
       "      <td>39.0</td>\n",
       "      <td>Wrist Shot</td>\n",
       "      <td>0</td>\n",
       "      <td>0.013</td>\n",
       "    </tr>\n",
       "    <tr>\n",
       "      <th>64016</th>\n",
       "      <td>8475156</td>\n",
       "      <td>3</td>\n",
       "      <td>77.0</td>\n",
       "      <td>-1.0</td>\n",
       "      <td>Tip-In</td>\n",
       "      <td>0</td>\n",
       "      <td>0.213</td>\n",
       "    </tr>\n",
       "    <tr>\n",
       "      <th>64017</th>\n",
       "      <td>8471418</td>\n",
       "      <td>4</td>\n",
       "      <td>81.0</td>\n",
       "      <td>9.0</td>\n",
       "      <td>Snap Shot</td>\n",
       "      <td>0</td>\n",
       "      <td>0.215</td>\n",
       "    </tr>\n",
       "    <tr>\n",
       "      <th>64018</th>\n",
       "      <td>8471418</td>\n",
       "      <td>4</td>\n",
       "      <td>67.0</td>\n",
       "      <td>-14.0</td>\n",
       "      <td>Wrist Shot</td>\n",
       "      <td>0</td>\n",
       "      <td>0.083</td>\n",
       "    </tr>\n",
       "    <tr>\n",
       "      <th>64019</th>\n",
       "      <td>8471418</td>\n",
       "      <td>4</td>\n",
       "      <td>73.0</td>\n",
       "      <td>-11.0</td>\n",
       "      <td>Wrist Shot</td>\n",
       "      <td>1</td>\n",
       "      <td>0.115</td>\n",
       "    </tr>\n",
       "  </tbody>\n",
       "</table>\n",
       "<p>64020 rows × 7 columns</p>\n",
       "</div>"
      ],
      "text/plain": [
       "        goalie  period     x     y    shotType  target  goalProb\n",
       "0      8471239       1  48.0 -22.0   Snap Shot       0     0.032\n",
       "1      8476316       1  86.0  -6.0   Snap Shot       0     0.197\n",
       "2      8471239       1  66.0  11.0  Wrist Shot       0     0.088\n",
       "3      8471239       1  54.0   4.0  Wrist Shot       0     0.073\n",
       "4      8476316       1  52.0  36.0   Snap Shot       0     0.021\n",
       "...        ...     ...   ...   ...         ...     ...       ...\n",
       "64015  8471418       3   8.0  39.0  Wrist Shot       0     0.013\n",
       "64016  8475156       3  77.0  -1.0      Tip-In       0     0.213\n",
       "64017  8471418       4  81.0   9.0   Snap Shot       0     0.215\n",
       "64018  8471418       4  67.0 -14.0  Wrist Shot       0     0.083\n",
       "64019  8471418       4  73.0 -11.0  Wrist Shot       1     0.115\n",
       "\n",
       "[64020 rows x 7 columns]"
      ]
     },
     "execution_count": 101,
     "metadata": {},
     "output_type": "execute_result"
    }
   ],
   "source": [
    "testDF"
   ]
  },
  {
   "cell_type": "code",
   "execution_count": 79,
   "metadata": {},
   "outputs": [],
   "source": [
    "goalieDF = df[(df['goalie'] == 8480051)]\n",
    "allowedDF = df[(df['goalie'] == 8480051) & (df['play'] == 'GOAL')]"
   ]
  },
  {
   "cell_type": "code",
   "execution_count": 63,
   "metadata": {},
   "outputs": [],
   "source": [
    "from griddertest import Gridder"
   ]
  },
  {
   "cell_type": "code",
   "execution_count": 121,
   "metadata": {},
   "outputs": [],
   "source": [
    "def createGrid(dx=10,dy=10):\n",
    "\n",
    "    # Create arrays for gridding\n",
    "    x_axis = np.arange(-100,100,dx)\n",
    "    y_axis = np.arange(-42.5,42.5,dy)\n",
    "\n",
    "    # Create our meshgrid from our arrays\n",
    "    X, Y = np.meshgrid(x_axis, y_axis)\n",
    "\n",
    "    # Set up the grid\n",
    "    G = Gridder(X,Y)\n",
    "\n",
    "    return G"
   ]
  },
  {
   "cell_type": "code",
   "execution_count": 122,
   "metadata": {},
   "outputs": [],
   "source": [
    "# Create grid object\n",
    "G = createGrid()\n",
    "\n",
    "totalGrid = np.zeros(G.tx.shape)\n",
    "allowedGrid = np.zeros(G.tx.shape)\n",
    "\n",
    "allPoints = G.grid_points(goalieDF['x'], goalieDF['y'])  # Run the Gridder!\n",
    "allowedPoints = G.grid_points(allowedDF['x'], allowedDF['y']) "
   ]
  },
  {
   "cell_type": "code",
   "execution_count": 123,
   "metadata": {},
   "outputs": [],
   "source": [
    "for idx,point in enumerate(allPoints):\n",
    "    totalGrid[point] += 1*testDF['goalProb'][idx]"
   ]
  },
  {
   "cell_type": "code",
   "execution_count": 124,
   "metadata": {},
   "outputs": [],
   "source": [
    "for idx,point in enumerate(allowedPoints):\n",
    "    allowedGrid[point] += 1"
   ]
  },
  {
   "cell_type": "code",
   "execution_count": 125,
   "metadata": {},
   "outputs": [
    {
     "data": {
      "text/plain": [
       "array([[ 0.   ,  0.   ,  0.   ,  0.   ,  0.   ,  0.   ,  0.   ,  0.   ,\n",
       "         0.   , -0.248, -0.215, -0.19 , -0.237, -0.837, -0.6  ,  0.112,\n",
       "        -0.732,  0.898,  0.   ,  0.   ],\n",
       "       [ 0.   ,  0.   ,  0.   , -0.163, -0.047,  0.   , -0.033,  0.   ,\n",
       "         0.   , -0.129, -0.125, -0.047, -0.043, -2.083, -2.315, -1.83 ,\n",
       "        -0.943, -0.568,  0.715,  0.   ],\n",
       "       [ 0.   , -0.125,  0.   ,  0.   ,  0.   , -0.13 ,  0.   ,  0.   ,\n",
       "         0.   ,  0.   ,  0.   ,  0.   , -0.135, -2.29 ,  0.198, -1.182,\n",
       "        -1.141, -1.391,  1.307, -0.161],\n",
       "       [-0.224,  0.   ,  0.   ,  0.   ,  0.   ,  0.   ,  0.   ,  0.   ,\n",
       "        -0.176,  0.   ,  0.   , -0.169,  0.   , -0.06 , -0.589, -0.235,\n",
       "         0.008,  1.21 ,  2.695,  0.   ],\n",
       "       [ 0.   ,  0.   ,  0.   ,  0.   , -0.124,  0.   ,  0.   ,  0.   ,\n",
       "         0.   , -0.112, -0.094, -0.474, -0.526, -1.181, -0.061,  0.025,\n",
       "         1.455,  6.616,  3.637,  0.   ],\n",
       "       [-0.046, -0.078,  0.   ,  0.   ,  0.   ,  0.   ,  0.   ,  0.   ,\n",
       "        -0.032,  0.   ,  0.   ,  0.   , -0.155, -0.439, -1.145, -0.803,\n",
       "        -1.334,  1.578, -0.933, -0.231],\n",
       "       [ 0.   , -0.131,  0.   ,  0.   ,  0.   ,  0.   ,  0.   ,  0.   ,\n",
       "        -0.038,  0.   , -0.041, -0.027,  0.   , -2.473, -0.568, -1.933,\n",
       "        -0.007, -0.709, -0.354,  0.   ],\n",
       "       [ 0.   , -0.184,  0.   ,  0.   ,  0.   , -0.202,  0.   ,  0.   ,\n",
       "         0.   ,  0.   ,  0.   , -0.071, -0.09 , -1.244, -0.786,  0.394,\n",
       "        -0.702, -0.625, -0.089,  0.   ],\n",
       "       [ 0.   ,  0.   ,  0.   ,  0.   , -0.085,  0.   ,  0.   ,  0.   ,\n",
       "         0.   ,  0.   , -0.055, -0.267,  0.   , -0.594, -0.308, -0.148,\n",
       "        -0.108, -0.477,  0.   ,  0.   ]])"
      ]
     },
     "execution_count": 125,
     "metadata": {},
     "output_type": "execute_result"
    }
   ],
   "source": [
    "allowedGrid - totalGrid"
   ]
  },
  {
   "cell_type": "code",
   "execution_count": 7,
   "metadata": {},
   "outputs": [],
   "source": [
    "df = pd.read_csv('./data/dataToFilter.csv')"
   ]
  },
  {
   "cell_type": "code",
   "execution_count": 142,
   "metadata": {},
   "outputs": [],
   "source": [
    "df['x'] = df['x'].apply(lambda x: abs(x))"
   ]
  },
  {
   "cell_type": "code",
   "execution_count": 163,
   "metadata": {},
   "outputs": [],
   "source": [
    "goalieID = 8471750\n",
    "goalieDF = df[(df['goalie'] == int(goalieID))].reset_index(drop=True)\n",
    "allowedDF = df[(df['goalie'] == int(goalieID)) & (df['target'] == 1)].reset_index(drop=True)"
   ]
  },
  {
   "cell_type": "code",
   "execution_count": 164,
   "metadata": {},
   "outputs": [],
   "source": [
    "# Create grid object\n",
    "G = createGrid()\n",
    "totalGrid = np.zeros(G.tx.shape)\n",
    "allowedGrid = np.zeros(G.tx.shape)\n",
    "\n",
    "allPoints = G.grid_points(goalieDF['x'], goalieDF['y'])  # Run the Gridder!\n",
    "allowedPoints = G.grid_points(allowedDF['x'], allowedDF['y']) "
   ]
  },
  {
   "cell_type": "code",
   "execution_count": 165,
   "metadata": {},
   "outputs": [],
   "source": [
    "for idx,point in enumerate(allPoints):\n",
    "    totalGrid[point] += goalieDF['goalProb'][idx]"
   ]
  },
  {
   "cell_type": "code",
   "execution_count": 166,
   "metadata": {},
   "outputs": [],
   "source": [
    "for idx,point in enumerate(allowedPoints):\n",
    "    allowedGrid[point] += 1"
   ]
  },
  {
   "cell_type": "code",
   "execution_count": 168,
   "metadata": {},
   "outputs": [
    {
     "data": {
      "text/plain": [
       "4.526999999999999"
      ]
     },
     "execution_count": 168,
     "metadata": {},
     "output_type": "execute_result"
    }
   ],
   "source": [
    "np.max(totalGrid-allowedGrid)"
   ]
  },
  {
   "cell_type": "code",
   "execution_count": 126,
   "metadata": {},
   "outputs": [],
   "source": [
    "import requests"
   ]
  },
  {
   "cell_type": "code",
   "execution_count": 127,
   "metadata": {},
   "outputs": [],
   "source": [
    "url = f'https://statsapi.web.nhl.com/api/v1/people/{goalieID}/stats?stats=statsSingleSeason&season=20192020'"
   ]
  },
  {
   "cell_type": "code",
   "execution_count": 129,
   "metadata": {},
   "outputs": [],
   "source": [
    "response = requests.get(url)"
   ]
  },
  {
   "cell_type": "code",
   "execution_count": 136,
   "metadata": {},
   "outputs": [],
   "source": [
    "timeList = response.json()['stats'][0]['splits'][0]['stat']['timeOnIce'].split(':')"
   ]
  },
  {
   "cell_type": "code",
   "execution_count": 137,
   "metadata": {},
   "outputs": [],
   "source": [
    "minOnIce = int(timeList[0]) + int(timeList[1])/60"
   ]
  },
  {
   "cell_type": "code",
   "execution_count": 138,
   "metadata": {},
   "outputs": [
    {
     "data": {
      "text/plain": [
       "27.01361111111111"
      ]
     },
     "execution_count": 138,
     "metadata": {},
     "output_type": "execute_result"
    }
   ],
   "source": [
    "minOnIce/60"
   ]
  },
  {
   "cell_type": "code",
   "execution_count": 174,
   "metadata": {},
   "outputs": [
    {
     "data": {
      "text/html": [
       "<div>\n",
       "<style scoped>\n",
       "    .dataframe tbody tr th:only-of-type {\n",
       "        vertical-align: middle;\n",
       "    }\n",
       "\n",
       "    .dataframe tbody tr th {\n",
       "        vertical-align: top;\n",
       "    }\n",
       "\n",
       "    .dataframe thead th {\n",
       "        text-align: right;\n",
       "    }\n",
       "</style>\n",
       "<table border=\"1\" class=\"dataframe\">\n",
       "  <thead>\n",
       "    <tr style=\"text-align: right;\">\n",
       "      <th></th>\n",
       "      <th>goalie</th>\n",
       "      <th>period</th>\n",
       "      <th>x</th>\n",
       "      <th>y</th>\n",
       "      <th>shotType</th>\n",
       "      <th>target</th>\n",
       "      <th>goalProb</th>\n",
       "    </tr>\n",
       "  </thead>\n",
       "  <tbody>\n",
       "    <tr>\n",
       "      <th>53575</th>\n",
       "      <td>8471750</td>\n",
       "      <td>2</td>\n",
       "      <td>13.0</td>\n",
       "      <td>-2.0</td>\n",
       "      <td>Wrist Shot</td>\n",
       "      <td>1</td>\n",
       "      <td>0.02</td>\n",
       "    </tr>\n",
       "  </tbody>\n",
       "</table>\n",
       "</div>"
      ],
      "text/plain": [
       "        goalie  period     x    y    shotType  target  goalProb\n",
       "53575  8471750       2  13.0 -2.0  Wrist Shot       1      0.02"
      ]
     },
     "execution_count": 174,
     "metadata": {},
     "output_type": "execute_result"
    }
   ],
   "source": [
    "df[(df['goalie'] == 8471750) & (df['target'] == 1)].loc[df['x'] == 13,:]"
   ]
  },
  {
   "cell_type": "code",
   "execution_count": 240,
   "metadata": {},
   "outputs": [],
   "source": [
    "with open('./data/goalies.json', 'r') as file:\n",
    "    baseDict = json.load(file)"
   ]
  },
  {
   "cell_type": "code",
   "execution_count": 251,
   "metadata": {
    "collapsed": true
   },
   "outputs": [
    {
     "name": "stdout",
     "output_type": "stream",
     "text": [
      "Getting TOI data for 8471239...\n",
      "Getting TOI data for 8476316...\n",
      "Getting TOI data for 8478406...\n",
      "Getting TOI data for 8475622...\n",
      "Getting TOI data for 8479394...\n",
      "Getting TOI data for 8475156...\n",
      "Getting TOI data for 8471695...\n",
      "Getting TOI data for 8475683...\n",
      "Getting TOI data for 8480382...\n",
      "Getting TOI data for 8477967...\n",
      "Getting TOI data for 8477293...\n",
      "Getting TOI data for 8470147...\n",
      "Getting TOI data for 8473503...\n",
      "Getting TOI data for 8476945...\n",
      "Getting TOI data for 8479496...\n",
      "Getting TOI data for 8474593...\n",
      "Getting TOI data for 8467950...\n",
      "Getting TOI data for 8476899...\n",
      "Getting TOI data for 8476234...\n",
      "Getting TOI data for 8477465...\n",
      "Getting TOI data for 8475839...\n",
      "Getting TOI data for 8473541...\n",
      "Getting TOI data for 8478039...\n",
      "Getting TOI data for 8471679...\n",
      "Getting TOI data for 8476999...\n",
      "Getting TOI data for 8476876...\n",
      "Getting TOI data for 8470645...\n",
      "Getting TOI data for 8471469...\n",
      "Getting TOI data for 8471750...\n",
      "Getting TOI data for 8480925...\n",
      "Getting TOI data for 8475311...\n",
      "Getting TOI data for 8468011...\n",
      "Getting TOI data for 8478492...\n",
      "Getting TOI data for 8480213...\n",
      "Getting TOI data for 8476914...\n",
      "Getting TOI data for 8475215...\n",
      "Getting TOI data for 8474636...\n",
      "Getting TOI data for 8470860...\n",
      "Getting TOI data for 8473575...\n",
      "Getting TOI data for 8475831...\n",
      "Getting TOI data for 8471306...\n",
      "Getting TOI data for 8478048...\n",
      "Getting TOI data for 8474651...\n",
      "Getting TOI data for 8475883...\n",
      "Getting TOI data for 8478007...\n",
      "Getting TOI data for 8477405...\n",
      "Getting TOI data for 8479292...\n",
      "Getting TOI data for 8470880...\n",
      "Getting TOI data for 8479312...\n",
      "Getting TOI data for 8477361...\n",
      "Getting TOI data for 8478470...\n",
      "Getting TOI data for 8475852...\n",
      "Getting TOI data for 8476412...\n",
      "Getting TOI data for 8474889...\n",
      "Getting TOI data for 8475195...\n",
      "Getting TOI data for 8476883...\n",
      "Getting TOI data for 8476434...\n",
      "Getting TOI data for 8471734...\n",
      "Getting TOI data for 8471227...\n",
      "Getting TOI data for 8470657...\n",
      "Getting TOI data for 8475717...\n",
      "Getting TOI data for 8477424...\n",
      "Getting TOI data for 8470594...\n",
      "Getting TOI data for 8468685...\n",
      "Getting TOI data for 8469608...\n",
      "Getting TOI data for 8471774...\n",
      "Getting TOI data for 8475660...\n",
      "Getting TOI data for 8480162...\n",
      "Getting TOI data for 8471418...\n",
      "Getting TOI data for 8476861...\n",
      "Getting TOI data for 8478499...\n",
      "Getting TOI data for 8475789...\n",
      "Getting TOI data for 8479288...\n",
      "Getting TOI data for 8477480...\n",
      "Getting TOI data for 8477180...\n",
      "Getting TOI data for 8476904...\n",
      "Getting TOI data for 8474596...\n",
      "Getting TOI data for 8477992...\n",
      "Getting TOI data for 8480051...\n",
      "Getting TOI data for 8476343...\n",
      "Getting TOI data for 8479530...\n",
      "Getting TOI data for 8477312...\n",
      "Getting TOI data for 8480022...\n"
     ]
    }
   ],
   "source": [
    "per60Dict = {}\n",
    "\n",
    "for value in baseDict.values():\n",
    "    url = f'https://statsapi.web.nhl.com/api/v1/people/{value}/stats?stats=statsSingleSeason&season=20192020'\n",
    "    \n",
    "    print(f'Getting TOI data for {value}...')\n",
    "    response = requests.get(url)\n",
    "    \n",
    "    timeList = response.json()['stats'][0]['splits'][0]['stat']['timeOnIce'].split(':')\n",
    "    minOnIce = int(timeList[0]) + int(timeList[1])/60\n",
    "    \n",
    "    per60 = np.round(minOnIce/60,2)\n",
    "    \n",
    "    # Get goalie's team\n",
    "    url = f'https://statsapi.web.nhl.com/api/v1/people/{value}'\n",
    "    response = requests.get(url).json()\n",
    "    team = response['people'][0]['currentTeam']['name'].split(' ')[-1]\n",
    "    \n",
    "    per60Dict[value] = {'games': per60, 'currTeam': team}"
   ]
  },
  {
   "cell_type": "code",
   "execution_count": 252,
   "metadata": {
    "collapsed": true
   },
   "outputs": [
    {
     "data": {
      "text/plain": [
       "{'8471239': {'games': 10.32, 'currTeam': 'Devils'},\n",
       " '8476316': {'games': 16.46, 'currTeam': 'Jets'},\n",
       " '8478406': {'games': 42.74, 'currTeam': 'Devils'},\n",
       " '8475622': {'games': 28.63, 'currTeam': 'Sabres'},\n",
       " '8479394': {'games': 37.31, 'currTeam': 'Flyers'},\n",
       " '8475156': {'games': 33.24, 'currTeam': 'Oilers'},\n",
       " '8471695': {'games': 38.04, 'currTeam': 'Bruins'},\n",
       " '8475683': {'games': 46.77, 'currTeam': 'Panthers'},\n",
       " '8480382': {'games': 30.5, 'currTeam': 'Rangers'},\n",
       " '8477967': {'games': 22.44, 'currTeam': 'Canucks'},\n",
       " '8477293': {'games': 30.38, 'currTeam': 'Coyotes'},\n",
       " '8470147': {'games': 16.93, 'currTeam': 'Lightning'},\n",
       " '8473503': {'games': 22.97, 'currTeam': 'Hurricanes'},\n",
       " '8476945': {'games': 51.48, 'currTeam': 'Jets'},\n",
       " '8479496': {'games': 45.54, 'currTeam': 'Flames'},\n",
       " '8474593': {'games': 42.53, 'currTeam': 'Canucks'},\n",
       " '8467950': {'games': 28.78, 'currTeam': 'Senators'},\n",
       " '8476899': {'games': 35.35, 'currTeam': 'Penguins'},\n",
       " '8476234': {'games': 5.67, 'currTeam': 'Canadiens'},\n",
       " '8477465': {'games': 31.11, 'currTeam': 'Penguins'},\n",
       " '8475839': {'games': 13.37, 'currTeam': 'Canucks'},\n",
       " '8473541': {'games': 39.69, 'currTeam': 'Wings'},\n",
       " '8478039': {'games': 5.07, 'currTeam': 'Wild'},\n",
       " '8471679': {'games': 56.36, 'currTeam': 'Canadiens'},\n",
       " '8476999': {'games': 32.69, 'currTeam': 'Sabres'},\n",
       " '8476876': {'games': 18.9, 'currTeam': 'Blackhawks'},\n",
       " '8470645': {'games': 36.09, 'currTeam': 'Blackhawks'},\n",
       " '8471469': {'games': 33.13, 'currTeam': 'Predators'},\n",
       " '8471750': {'games': 39.31, 'currTeam': 'Stars'},\n",
       " '8480925': {'games': 27.89, 'currTeam': 'Avalanche'},\n",
       " '8475311': {'games': 27.26, 'currTeam': 'Coyotes'},\n",
       " '8468011': {'games': 18.42, 'currTeam': 'Ducks'},\n",
       " '8478492': {'games': 23.52, 'currTeam': 'Capitals'},\n",
       " '8480213': {'games': 1.17, 'currTeam': 'Devils'},\n",
       " '8476914': {'games': 34.45, 'currTeam': 'Jackets'},\n",
       " '8475215': {'games': 33.26, 'currTeam': 'Knights'},\n",
       " '8474636': {'games': 14.12, 'currTeam': 'Avalanche'},\n",
       " '8470860': {'games': 30.56, 'currTeam': 'Bruins'},\n",
       " '8473575': {'games': 40.87, 'currTeam': 'Islanders'},\n",
       " '8475831': {'games': 34.28, 'currTeam': 'Avalanche'},\n",
       " '8471306': {'games': 25.57, 'currTeam': 'Islanders'},\n",
       " '8478048': {'games': 9.87, 'currTeam': 'Rangers'},\n",
       " '8474651': {'games': 43.64, 'currTeam': 'Capitals'},\n",
       " '8475883': {'games': 49.11, 'currTeam': 'Leafs'},\n",
       " '8478007': {'games': 29.25, 'currTeam': 'Jackets'},\n",
       " '8477405': {'games': 21.41, 'currTeam': 'Senators'},\n",
       " '8479292': {'games': 5.04, 'currTeam': 'Canadiens'},\n",
       " '8470880': {'games': 27.9, 'currTeam': 'Flyers'},\n",
       " '8479312': {'games': 2.26, 'currTeam': 'Flyers'},\n",
       " '8477361': {'games': 5.96, 'currTeam': 'Kings'},\n",
       " '8478470': {'games': 11.68, 'currTeam': 'Panthers'},\n",
       " '8475852': {'games': 37.68, 'currTeam': 'Hurricanes'},\n",
       " '8476412': {'games': 47.18, 'currTeam': 'Blues'},\n",
       " '8474889': {'games': 38.37, 'currTeam': 'Sharks'},\n",
       " '8475195': {'games': 18.22, 'currTeam': 'Senators'},\n",
       " '8476883': {'games': 50.06, 'currTeam': 'Lightning'},\n",
       " '8476434': {'games': 48.85, 'currTeam': 'Ducks'},\n",
       " '8471734': {'games': 40.94, 'currTeam': 'Kings'},\n",
       " '8471227': {'games': 26.68, 'currTeam': 'Wild'},\n",
       " '8470657': {'games': 22.86, 'currTeam': 'Wings'},\n",
       " '8475717': {'games': 2.75, 'currTeam': 'Wings'},\n",
       " '8477424': {'games': 34.28, 'currTeam': 'Predators'},\n",
       " '8470594': {'games': 45.97, 'currTeam': 'Knights'},\n",
       " '8468685': {'games': 26.32, 'currTeam': 'Rangers'},\n",
       " '8469608': {'games': 34.98, 'currTeam': 'Oilers'},\n",
       " '8471774': {'games': 35.3, 'currTeam': 'Wild'},\n",
       " '8475660': {'games': 22.92, 'currTeam': 'Flames'},\n",
       " '8480162': {'games': 4.75, 'currTeam': 'Jackets'},\n",
       " '8471418': {'games': 27.96, 'currTeam': 'Stars'},\n",
       " '8476861': {'games': 1.0, 'currTeam': 'Knights'},\n",
       " '8478499': {'games': 10.68, 'currTeam': 'Coyotes'},\n",
       " '8475789': {'games': 25.16, 'currTeam': 'Leafs'},\n",
       " '8479288': {'games': 1.0, 'currTeam': 'Leafs'},\n",
       " '8477480': {'games': 2.1, 'currTeam': 'Jets'},\n",
       " '8477180': {'games': 28.57, 'currTeam': 'Sharks'},\n",
       " '8476904': {'games': 8.72, 'currTeam': 'Panthers'},\n",
       " '8474596': {'games': 20.33, 'currTeam': 'Blues'},\n",
       " '8477992': {'games': 5.45, 'currTeam': 'Sabres'},\n",
       " '8480051': {'games': 1.98, 'currTeam': 'Canadiens'},\n",
       " '8476343': {'games': 0.46, 'currTeam': 'Knights'},\n",
       " '8479530': {'games': 1.46, 'currTeam': 'Avalanche'},\n",
       " '8477312': {'games': 1.53, 'currTeam': 'Avalanche'},\n",
       " '8480022': {'games': 0.14, 'currTeam': 'Canucks'}}"
      ]
     },
     "execution_count": 252,
     "metadata": {},
     "output_type": "execute_result"
    }
   ],
   "source": [
    "per60Dict"
   ]
  },
  {
   "cell_type": "code",
   "execution_count": 253,
   "metadata": {},
   "outputs": [],
   "source": [
    "# Save the updated dict to a json file\n",
    "with open('./data/goalieTime.json','w') as file:\n",
    "    json.dump(per60Dict, file)"
   ]
  },
  {
   "cell_type": "code",
   "execution_count": 191,
   "metadata": {},
   "outputs": [
    {
     "data": {
      "text/plain": [
       "98.0"
      ]
     },
     "execution_count": 191,
     "metadata": {},
     "output_type": "execute_result"
    }
   ],
   "source": [
    "np.sum(allowedGrid)"
   ]
  },
  {
   "cell_type": "code",
   "execution_count": 8,
   "metadata": {},
   "outputs": [],
   "source": [
    "goalieID = 8471750\n",
    "goalieDF = df[(df['goalie'] == int(goalieID))].reset_index(drop=True)\n",
    "allowedDF = df[(df['goalie'] == int(goalieID)) & (df['target'] == 1)].reset_index(drop=True)"
   ]
  },
  {
   "cell_type": "code",
   "execution_count": 6,
   "metadata": {},
   "outputs": [],
   "source": [
    "with open('./data/goalieTime.json', 'r') as file:\n",
    "    baseDict = json.load(file)"
   ]
  },
  {
   "cell_type": "code",
   "execution_count": 9,
   "metadata": {},
   "outputs": [],
   "source": [
    "expectedGoals = goalieDF['goalProb'].sum()/baseDict[str(goalieID)]['games']\n",
    "allowedGoals = allowedDF['target'].sum()/baseDict[str(goalieID)]['games']"
   ]
  },
  {
   "cell_type": "code",
   "execution_count": 10,
   "metadata": {},
   "outputs": [],
   "source": [
    "import matplotlib.pyplot as plt\n",
    "from matplotlib import style\n",
    "style.use('fivethirtyeight')\n",
    "import matplotlib.image as mpimg\n",
    "img=mpimg.imread('./static/teamLogos/stars.png')"
   ]
  },
  {
   "cell_type": "code",
   "execution_count": 284,
   "metadata": {},
   "outputs": [
    {
     "data": {
      "text/plain": [
       "Text(0, 0.5, 'Goals Against Average')"
      ]
     },
     "execution_count": 284,
     "metadata": {},
     "output_type": "execute_result"
    },
    {
     "data": {
      "image/png": "[encoded data removed]",
      "text/plain": [
       "<Figure size 432x288 with 1 Axes>"
      ]
     },
     "metadata": {},
     "output_type": "display_data"
    }
   ],
   "source": [
    "#plt.scatter(expectedGoals,allowedGoals)\n",
    "plt.imshow(img,extent=(expectedGoals-0.05,expectedGoals+0.05,allowedGoals-0.05,allowedGoals+0.05))\n",
    "plt.xlim([avgExp-0.5,avgExp+0.5])\n",
    "plt.xlabel('Expected Goals Against Average')\n",
    "plt.ylim([avgGAA-0.5,avgGAA+0.5])\n",
    "plt.ylabel('Goals Against Average')"
   ]
  },
  {
   "cell_type": "code",
   "execution_count": 16,
   "metadata": {},
   "outputs": [
    {
     "data": {
      "text/plain": [
       "(2.05, 3.55)"
      ]
     },
     "execution_count": 16,
     "metadata": {},
     "output_type": "execute_result"
    },
    {
     "data": {
      "image/png": "[encoded data removed]",
      "text/plain": [
       "<Figure size 648x648 with 1 Axes>"
      ]
     },
     "metadata": {},
     "output_type": "display_data"
    },
    {
     "data": {
      "image/png": "[encoded data removed]",
      "text/plain": [
       "<Figure size 648x648 with 1 Axes>"
      ]
     },
     "metadata": {},
     "output_type": "display_data"
    }
   ],
   "source": [
    "fig,ax = plt.subplots(figsize=(9,9))\n",
    "plt.plot([0,4],[0,4],linestyle='dashed',linewidth=1)\n",
    "\n",
    "#for goalie in baseDict.keys():\n",
    "\n",
    "goalie = \"8471750\"\n",
    "fig2,ax2 = plt.subplots(figsize=(9,9))\n",
    "img=mpimg.imread(f'./static/teamLogos/{baseDict[goalie][\"currTeam\"]}.png')\n",
    "\n",
    "goalieDF = df[(df['goalie'] == int(goalie))].reset_index(drop=True)\n",
    "allowedDF = df[(df['goalie'] == int(goalie)) & (df['target'] == 1)].reset_index(drop=True)\n",
    "\n",
    "expectedGoals = goalieDF['goalProb'].sum()/baseDict[goalie]['games']\n",
    "allowedGoals = allowedDF['target'].sum()/baseDict[goalie]['games']\n",
    "\n",
    "ax.imshow(img,extent=(expectedGoals-0.05,expectedGoals+0.05,allowedGoals-0.05,allowedGoals+0.05),alpha=0.25)\n",
    "ax.set_xlim([2.8-0.75,2.8+0.75])\n",
    "ax.set_xlabel('Expected Goals Against Average')\n",
    "ax.set_ylim([2.8-0.75,2.8+0.75])\n",
    "ax.set_ylabel('Goals Against Average')\n",
    "\n",
    "ax2.imshow(img,extent=(expectedGoals-0.1,expectedGoals+0.1,allowedGoals-0.1,allowedGoals+0.1))\n",
    "ax2.set_xlim([2.8-0.75,2.8+0.75])\n",
    "ax2.set_ylim([2.8-0.75,2.8+0.75])\n",
    "#fig2.savefig(f'./static/images/{goalie}',ax=ax2,dpi=100,transparent=True)\n",
    "                     \n",
    "#fig.savefig('./static/images/test.png',dpi=100)"
   ]
  },
  {
   "cell_type": "code",
   "execution_count": null,
   "metadata": {},
   "outputs": [],
   "source": []
  },
  {
   "cell_type": "code",
   "execution_count": 14,
   "metadata": {},
   "outputs": [],
   "source": [
    "with open('./data/goalieTime.json', 'r') as file:\n",
    "    goalieDict = json.load(file)"
   ]
  },
  {
   "cell_type": "markdown",
   "metadata": {},
   "source": [
    "Calculate sum of games for all goalies"
   ]
  },
  {
   "cell_type": "code",
   "execution_count": 15,
   "metadata": {},
   "outputs": [
    {
     "ename": "TypeError",
     "evalue": "unsupported operand type(s) for +=: 'int' and 'dict'",
     "output_type": "error",
     "traceback": [
      "\u001b[0;31m---------------------------------------------------------------------------\u001b[0m",
      "\u001b[0;31mTypeError\u001b[0m                                 Traceback (most recent call last)",
      "\u001b[0;32m<ipython-input-15-4c3b4e91a3a5>\u001b[0m in \u001b[0;36m<module>\u001b[0;34m\u001b[0m\n\u001b[1;32m      1\u001b[0m \u001b[0mtotalGames\u001b[0m \u001b[0;34m=\u001b[0m \u001b[0;36m0\u001b[0m\u001b[0;34m\u001b[0m\u001b[0;34m\u001b[0m\u001b[0m\n\u001b[1;32m      2\u001b[0m \u001b[0;32mfor\u001b[0m \u001b[0mgoalie\u001b[0m \u001b[0;32min\u001b[0m \u001b[0mgoalieDict\u001b[0m\u001b[0;34m:\u001b[0m\u001b[0;34m\u001b[0m\u001b[0;34m\u001b[0m\u001b[0m\n\u001b[0;32m----> 3\u001b[0;31m     \u001b[0mtotalGames\u001b[0m \u001b[0;34m+=\u001b[0m \u001b[0mgoalieDict\u001b[0m\u001b[0;34m[\u001b[0m\u001b[0mgoalie\u001b[0m\u001b[0;34m]\u001b[0m\u001b[0;34m\u001b[0m\u001b[0;34m\u001b[0m\u001b[0m\n\u001b[0m",
      "\u001b[0;31mTypeError\u001b[0m: unsupported operand type(s) for +=: 'int' and 'dict'"
     ]
    }
   ],
   "source": [
    "totalGames = 0\n",
    "for goalie in goalieDict:\n",
    "    totalGames += goalieDict[goalie]"
   ]
  },
  {
   "cell_type": "markdown",
   "metadata": {},
   "source": [
    "Average Goals Against Average"
   ]
  },
  {
   "cell_type": "code",
   "execution_count": 12,
   "metadata": {},
   "outputs": [
    {
     "ename": "NameError",
     "evalue": "name 'totalGames' is not defined",
     "output_type": "error",
     "traceback": [
      "\u001b[0;31m---------------------------------------------------------------------------\u001b[0m",
      "\u001b[0;31mNameError\u001b[0m                                 Traceback (most recent call last)",
      "\u001b[0;32m<ipython-input-12-077f911ff6d2>\u001b[0m in \u001b[0;36m<module>\u001b[0;34m\u001b[0m\n\u001b[0;32m----> 1\u001b[0;31m \u001b[0mavgGAA\u001b[0m \u001b[0;34m=\u001b[0m \u001b[0mdf\u001b[0m\u001b[0;34m[\u001b[0m\u001b[0;34m'target'\u001b[0m\u001b[0;34m]\u001b[0m\u001b[0;34m.\u001b[0m\u001b[0msum\u001b[0m\u001b[0;34m(\u001b[0m\u001b[0;34m)\u001b[0m\u001b[0;34m/\u001b[0m\u001b[0mtotalGames\u001b[0m\u001b[0;34m\u001b[0m\u001b[0;34m\u001b[0m\u001b[0m\n\u001b[0m",
      "\u001b[0;31mNameError\u001b[0m: name 'totalGames' is not defined"
     ]
    }
   ],
   "source": [
    "avgGAA = df['target'].sum()/totalGames"
   ]
  },
  {
   "cell_type": "markdown",
   "metadata": {},
   "source": [
    "Average Expected Against"
   ]
  },
  {
   "cell_type": "code",
   "execution_count": 228,
   "metadata": {},
   "outputs": [],
   "source": [
    "avgExp = df['goalProb'].sum()/totalGames"
   ]
  },
  {
   "cell_type": "code",
   "execution_count": 245,
   "metadata": {},
   "outputs": [],
   "source": [
    "url = 'https://statsapi.web.nhl.com/api/v1/people/8477293/'"
   ]
  },
  {
   "cell_type": "code",
   "execution_count": 246,
   "metadata": {},
   "outputs": [],
   "source": [
    "response = requests.get(url).json()"
   ]
  },
  {
   "cell_type": "code",
   "execution_count": 250,
   "metadata": {},
   "outputs": [
    {
     "data": {
      "text/plain": [
       "'Coyotes'"
      ]
     },
     "execution_count": 250,
     "metadata": {},
     "output_type": "execute_result"
    }
   ],
   "source": [
    "response['people'][0]['currentTeam']['name'].split(' ')[-1]"
   ]
  },
  {
   "cell_type": "code",
   "execution_count": null,
   "metadata": {},
   "outputs": [],
   "source": []
  }
 ],
 "metadata": {
  "kernelspec": {
   "display_name": "Python 3",
   "language": "python",
   "name": "python3"
  },
  "language_info": {
   "codemirror_mode": {
    "name": "ipython",
    "version": 3
   },
   "file_extension": ".py",
   "mimetype": "text/x-python",
   "name": "python",
   "nbconvert_exporter": "python",
   "pygments_lexer": "ipython3",
   "version": "3.6.9"
  }
 },
 "nbformat": 4,
 "nbformat_minor": 4
}
